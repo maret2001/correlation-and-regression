{
 "cells": [
  {
   "cell_type": "code",
   "execution_count": 131,
   "metadata": {},
   "outputs": [],
   "source": [
    "import numpy as np\n",
    "import pandas as pd\n",
    "import matplotlib.pyplot as plt\n",
    "import seaborn as sbs\n",
    "\n",
    "#Library Modelling\n",
    "from sklearn.linear_model import LinearRegression,Lasso, Ridge\n",
    "from sklearn.svm import SVR\n",
    "from sklearn.tree import DecisionTreeRegressor\n",
    "\n",
    "# Evaluation\n",
    "from sklearn.metrics import mean_absolute_error, mean_squared_error, r2_score\n",
    "\n",
    "# Preprocessing\n",
    "from sklearn.model_selection import train_test_split\n",
    "from sklearn.preprocessing import MinMaxScaler\n",
    "import warnings\n",
    "warnings.filterwarnings(\"ignore\")"
   ]
  },
  {
   "cell_type": "code",
   "execution_count": 132,
   "metadata": {},
   "outputs": [
    {
     "data": {
      "text/html": [
       "<div>\n",
       "<style scoped>\n",
       "    .dataframe tbody tr th:only-of-type {\n",
       "        vertical-align: middle;\n",
       "    }\n",
       "\n",
       "    .dataframe tbody tr th {\n",
       "        vertical-align: top;\n",
       "    }\n",
       "\n",
       "    .dataframe thead th {\n",
       "        text-align: right;\n",
       "    }\n",
       "</style>\n",
       "<table border=\"1\" class=\"dataframe\">\n",
       "  <thead>\n",
       "    <tr style=\"text-align: right;\">\n",
       "      <th></th>\n",
       "      <th>total_rooms</th>\n",
       "      <th>housing_median_age</th>\n",
       "      <th>population</th>\n",
       "      <th>median_house_value</th>\n",
       "    </tr>\n",
       "  </thead>\n",
       "  <tbody>\n",
       "    <tr>\n",
       "      <th>0</th>\n",
       "      <td>880.0</td>\n",
       "      <td>41.0</td>\n",
       "      <td>322.0</td>\n",
       "      <td>452600.0</td>\n",
       "    </tr>\n",
       "    <tr>\n",
       "      <th>1</th>\n",
       "      <td>7099.0</td>\n",
       "      <td>21.0</td>\n",
       "      <td>2401.0</td>\n",
       "      <td>358500.0</td>\n",
       "    </tr>\n",
       "    <tr>\n",
       "      <th>2</th>\n",
       "      <td>1467.0</td>\n",
       "      <td>52.0</td>\n",
       "      <td>496.0</td>\n",
       "      <td>352100.0</td>\n",
       "    </tr>\n",
       "    <tr>\n",
       "      <th>3</th>\n",
       "      <td>1274.0</td>\n",
       "      <td>52.0</td>\n",
       "      <td>558.0</td>\n",
       "      <td>341300.0</td>\n",
       "    </tr>\n",
       "    <tr>\n",
       "      <th>4</th>\n",
       "      <td>1627.0</td>\n",
       "      <td>52.0</td>\n",
       "      <td>565.0</td>\n",
       "      <td>342200.0</td>\n",
       "    </tr>\n",
       "    <tr>\n",
       "      <th>5</th>\n",
       "      <td>919.0</td>\n",
       "      <td>52.0</td>\n",
       "      <td>413.0</td>\n",
       "      <td>269700.0</td>\n",
       "    </tr>\n",
       "    <tr>\n",
       "      <th>6</th>\n",
       "      <td>2535.0</td>\n",
       "      <td>52.0</td>\n",
       "      <td>1094.0</td>\n",
       "      <td>299200.0</td>\n",
       "    </tr>\n",
       "    <tr>\n",
       "      <th>7</th>\n",
       "      <td>3104.0</td>\n",
       "      <td>52.0</td>\n",
       "      <td>1157.0</td>\n",
       "      <td>241400.0</td>\n",
       "    </tr>\n",
       "    <tr>\n",
       "      <th>8</th>\n",
       "      <td>2555.0</td>\n",
       "      <td>42.0</td>\n",
       "      <td>1206.0</td>\n",
       "      <td>226700.0</td>\n",
       "    </tr>\n",
       "    <tr>\n",
       "      <th>9</th>\n",
       "      <td>3549.0</td>\n",
       "      <td>52.0</td>\n",
       "      <td>1551.0</td>\n",
       "      <td>261100.0</td>\n",
       "    </tr>\n",
       "    <tr>\n",
       "      <th>10</th>\n",
       "      <td>2202.0</td>\n",
       "      <td>52.0</td>\n",
       "      <td>910.0</td>\n",
       "      <td>281500.0</td>\n",
       "    </tr>\n",
       "    <tr>\n",
       "      <th>11</th>\n",
       "      <td>3503.0</td>\n",
       "      <td>52.0</td>\n",
       "      <td>1504.0</td>\n",
       "      <td>241800.0</td>\n",
       "    </tr>\n",
       "    <tr>\n",
       "      <th>12</th>\n",
       "      <td>2491.0</td>\n",
       "      <td>52.0</td>\n",
       "      <td>1098.0</td>\n",
       "      <td>213500.0</td>\n",
       "    </tr>\n",
       "    <tr>\n",
       "      <th>13</th>\n",
       "      <td>696.0</td>\n",
       "      <td>52.0</td>\n",
       "      <td>345.0</td>\n",
       "      <td>191300.0</td>\n",
       "    </tr>\n",
       "    <tr>\n",
       "      <th>14</th>\n",
       "      <td>2643.0</td>\n",
       "      <td>52.0</td>\n",
       "      <td>1212.0</td>\n",
       "      <td>159200.0</td>\n",
       "    </tr>\n",
       "    <tr>\n",
       "      <th>15</th>\n",
       "      <td>1120.0</td>\n",
       "      <td>50.0</td>\n",
       "      <td>697.0</td>\n",
       "      <td>140000.0</td>\n",
       "    </tr>\n",
       "    <tr>\n",
       "      <th>16</th>\n",
       "      <td>1966.0</td>\n",
       "      <td>52.0</td>\n",
       "      <td>793.0</td>\n",
       "      <td>152500.0</td>\n",
       "    </tr>\n",
       "    <tr>\n",
       "      <th>17</th>\n",
       "      <td>1228.0</td>\n",
       "      <td>52.0</td>\n",
       "      <td>648.0</td>\n",
       "      <td>155500.0</td>\n",
       "    </tr>\n",
       "    <tr>\n",
       "      <th>18</th>\n",
       "      <td>2239.0</td>\n",
       "      <td>50.0</td>\n",
       "      <td>990.0</td>\n",
       "      <td>158700.0</td>\n",
       "    </tr>\n",
       "    <tr>\n",
       "      <th>19</th>\n",
       "      <td>1503.0</td>\n",
       "      <td>52.0</td>\n",
       "      <td>690.0</td>\n",
       "      <td>162900.0</td>\n",
       "    </tr>\n",
       "  </tbody>\n",
       "</table>\n",
       "</div>"
      ],
      "text/plain": [
       "    total_rooms  housing_median_age  population  median_house_value\n",
       "0         880.0                41.0       322.0            452600.0\n",
       "1        7099.0                21.0      2401.0            358500.0\n",
       "2        1467.0                52.0       496.0            352100.0\n",
       "3        1274.0                52.0       558.0            341300.0\n",
       "4        1627.0                52.0       565.0            342200.0\n",
       "5         919.0                52.0       413.0            269700.0\n",
       "6        2535.0                52.0      1094.0            299200.0\n",
       "7        3104.0                52.0      1157.0            241400.0\n",
       "8        2555.0                42.0      1206.0            226700.0\n",
       "9        3549.0                52.0      1551.0            261100.0\n",
       "10       2202.0                52.0       910.0            281500.0\n",
       "11       3503.0                52.0      1504.0            241800.0\n",
       "12       2491.0                52.0      1098.0            213500.0\n",
       "13        696.0                52.0       345.0            191300.0\n",
       "14       2643.0                52.0      1212.0            159200.0\n",
       "15       1120.0                50.0       697.0            140000.0\n",
       "16       1966.0                52.0       793.0            152500.0\n",
       "17       1228.0                52.0       648.0            155500.0\n",
       "18       2239.0                50.0       990.0            158700.0\n",
       "19       1503.0                52.0       690.0            162900.0"
      ]
     },
     "execution_count": 132,
     "metadata": {},
     "output_type": "execute_result"
    }
   ],
   "source": [
    "files = pd.read_csv('housing_price.csv')\n",
    "files.head(20)"
   ]
  },
  {
   "cell_type": "code",
   "execution_count": 133,
   "metadata": {},
   "outputs": [
    {
     "data": {
      "text/plain": [
       "(100, 4)"
      ]
     },
     "execution_count": 133,
     "metadata": {},
     "output_type": "execute_result"
    }
   ],
   "source": [
    "files.shape"
   ]
  },
  {
   "cell_type": "code",
   "execution_count": 134,
   "metadata": {},
   "outputs": [
    {
     "data": {
      "text/plain": [
       "<bound method NDFrame.describe of     total_rooms  housing_median_age  population  median_house_value\n",
       "0         880.0                41.0       322.0            452600.0\n",
       "1        7099.0                21.0      2401.0            358500.0\n",
       "2        1467.0                52.0       496.0            352100.0\n",
       "3        1274.0                52.0       558.0            341300.0\n",
       "4        1627.0                52.0       565.0            342200.0\n",
       "..          ...                 ...         ...                 ...\n",
       "95       5329.0                36.0      3469.0            130000.0\n",
       "96       4596.0                31.0      2048.0            183800.0\n",
       "97        335.0                29.0       202.0            125000.0\n",
       "98       3682.0                22.0      2024.0            170000.0\n",
       "99       3633.0                37.0      1838.0            193100.0\n",
       "\n",
       "[100 rows x 4 columns]>"
      ]
     },
     "execution_count": 134,
     "metadata": {},
     "output_type": "execute_result"
    }
   ],
   "source": [
    "files.describe"
   ]
  },
  {
   "cell_type": "code",
   "execution_count": 135,
   "metadata": {},
   "outputs": [
    {
     "data": {
      "text/plain": [
       "Index(['total_rooms', 'housing_median_age', 'population',\n",
       "       'median_house_value'],\n",
       "      dtype='object')"
      ]
     },
     "execution_count": 135,
     "metadata": {},
     "output_type": "execute_result"
    }
   ],
   "source": [
    "files.columns"
   ]
  },
  {
   "cell_type": "code",
   "execution_count": 136,
   "metadata": {},
   "outputs": [
    {
     "data": {
      "text/plain": [
       "<bound method DataFrame.info of     total_rooms  housing_median_age  population  median_house_value\n",
       "0         880.0                41.0       322.0            452600.0\n",
       "1        7099.0                21.0      2401.0            358500.0\n",
       "2        1467.0                52.0       496.0            352100.0\n",
       "3        1274.0                52.0       558.0            341300.0\n",
       "4        1627.0                52.0       565.0            342200.0\n",
       "..          ...                 ...         ...                 ...\n",
       "95       5329.0                36.0      3469.0            130000.0\n",
       "96       4596.0                31.0      2048.0            183800.0\n",
       "97        335.0                29.0       202.0            125000.0\n",
       "98       3682.0                22.0      2024.0            170000.0\n",
       "99       3633.0                37.0      1838.0            193100.0\n",
       "\n",
       "[100 rows x 4 columns]>"
      ]
     },
     "execution_count": 136,
     "metadata": {},
     "output_type": "execute_result"
    }
   ],
   "source": [
    "files.info"
   ]
  },
  {
   "cell_type": "code",
   "execution_count": 137,
   "metadata": {},
   "outputs": [
    {
     "data": {
      "text/html": [
       "<div>\n",
       "<style scoped>\n",
       "    .dataframe tbody tr th:only-of-type {\n",
       "        vertical-align: middle;\n",
       "    }\n",
       "\n",
       "    .dataframe tbody tr th {\n",
       "        vertical-align: top;\n",
       "    }\n",
       "\n",
       "    .dataframe thead th {\n",
       "        text-align: right;\n",
       "    }\n",
       "</style>\n",
       "<table border=\"1\" class=\"dataframe\">\n",
       "  <thead>\n",
       "    <tr style=\"text-align: right;\">\n",
       "      <th></th>\n",
       "      <th>total_rooms</th>\n",
       "      <th>housing_median_age</th>\n",
       "      <th>population</th>\n",
       "      <th>median_house_value</th>\n",
       "    </tr>\n",
       "  </thead>\n",
       "  <tbody>\n",
       "    <tr>\n",
       "      <th>total_rooms</th>\n",
       "      <td>1.000000</td>\n",
       "      <td>-0.033254</td>\n",
       "      <td>0.920196</td>\n",
       "      <td>0.253887</td>\n",
       "    </tr>\n",
       "    <tr>\n",
       "      <th>housing_median_age</th>\n",
       "      <td>-0.033254</td>\n",
       "      <td>1.000000</td>\n",
       "      <td>-0.062477</td>\n",
       "      <td>0.018831</td>\n",
       "    </tr>\n",
       "    <tr>\n",
       "      <th>population</th>\n",
       "      <td>0.920196</td>\n",
       "      <td>-0.062477</td>\n",
       "      <td>1.000000</td>\n",
       "      <td>0.129279</td>\n",
       "    </tr>\n",
       "    <tr>\n",
       "      <th>median_house_value</th>\n",
       "      <td>0.253887</td>\n",
       "      <td>0.018831</td>\n",
       "      <td>0.129279</td>\n",
       "      <td>1.000000</td>\n",
       "    </tr>\n",
       "  </tbody>\n",
       "</table>\n",
       "</div>"
      ],
      "text/plain": [
       "                    total_rooms  housing_median_age  population  \\\n",
       "total_rooms            1.000000           -0.033254    0.920196   \n",
       "housing_median_age    -0.033254            1.000000   -0.062477   \n",
       "population             0.920196           -0.062477    1.000000   \n",
       "median_house_value     0.253887            0.018831    0.129279   \n",
       "\n",
       "                    median_house_value  \n",
       "total_rooms                   0.253887  \n",
       "housing_median_age            0.018831  \n",
       "population                    0.129279  \n",
       "median_house_value            1.000000  "
      ]
     },
     "execution_count": 137,
     "metadata": {},
     "output_type": "execute_result"
    }
   ],
   "source": [
    "korelasi = files.corr()\n",
    "korelasi"
   ]
  },
  {
   "cell_type": "code",
   "execution_count": 138,
   "metadata": {},
   "outputs": [
    {
     "data": {
      "image/png": "[encoded data removed]",
      "text/plain": [
       "<Figure size 432x288 with 2 Axes>"
      ]
     },
     "metadata": {
      "needs_background": "light"
     },
     "output_type": "display_data"
    }
   ],
   "source": [
    "sbs.heatmap(korelasi, annot=True)\n",
    "plt.show()"
   ]
  },
  {
   "cell_type": "code",
   "execution_count": 139,
   "metadata": {},
   "outputs": [
    {
     "data": {
      "text/plain": [
       "Index(['total_rooms', 'housing_median_age', 'population',\n",
       "       'median_house_value'],\n",
       "      dtype='object')"
      ]
     },
     "execution_count": 139,
     "metadata": {},
     "output_type": "execute_result"
    }
   ],
   "source": [
    "files.columns"
   ]
  },
  {
   "cell_type": "code",
   "execution_count": 140,
   "metadata": {},
   "outputs": [
    {
     "name": "stdout",
     "output_type": "stream",
     "text": [
      "dokumen = (100, 4)\n",
      "x_train = (80, 3)\n",
      "x_test = (20, 3)\n",
      "y_train = (80,)\n",
      "y_test = (20,)\n"
     ]
    }
   ],
   "source": [
    "x = files[['total_rooms', \n",
    "           'housing_median_age', \n",
    "           'population']]\n",
    "y = files.median_house_value\n",
    "x_train, x_test, y_train, y_test = train_test_split(x, y, \n",
    "                                                    test_size=.2, \n",
    "                                                    random_state=21) # untuk membagi data \n",
    "print(f'dokumen = {files.shape}\\nx_train = {x_train.shape}\\nx_test = {x_test.shape}\\ny_train = {y_train.shape}\\ny_test = {y_test.shape}')"
   ]
  },
  {
   "cell_type": "code",
   "execution_count": 141,
   "metadata": {},
   "outputs": [
    {
     "data": {
      "text/plain": [
       "LinearRegression()"
      ]
     },
     "execution_count": 141,
     "metadata": {},
     "output_type": "execute_result"
    }
   ],
   "source": [
    "linreg = LinearRegression()\n",
    "linreg.fit(x_train, y_train)"
   ]
  },
  {
   "cell_type": "code",
   "execution_count": 142,
   "metadata": {},
   "outputs": [
    {
     "data": {
      "text/html": [
       "<div>\n",
       "<style scoped>\n",
       "    .dataframe tbody tr th:only-of-type {\n",
       "        vertical-align: middle;\n",
       "    }\n",
       "\n",
       "    .dataframe tbody tr th {\n",
       "        vertical-align: top;\n",
       "    }\n",
       "\n",
       "    .dataframe thead th {\n",
       "        text-align: right;\n",
       "    }\n",
       "</style>\n",
       "<table border=\"1\" class=\"dataframe\">\n",
       "  <thead>\n",
       "    <tr style=\"text-align: right;\">\n",
       "      <th></th>\n",
       "      <th>y_prediksi</th>\n",
       "      <th>y_asli</th>\n",
       "      <th>error</th>\n",
       "    </tr>\n",
       "  </thead>\n",
       "  <tbody>\n",
       "    <tr>\n",
       "      <th>0</th>\n",
       "      <td>163339.05</td>\n",
       "      <td>99700.0</td>\n",
       "      <td>63639.05</td>\n",
       "    </tr>\n",
       "    <tr>\n",
       "      <th>1</th>\n",
       "      <td>141067.15</td>\n",
       "      <td>112500.0</td>\n",
       "      <td>28567.15</td>\n",
       "    </tr>\n",
       "    <tr>\n",
       "      <th>2</th>\n",
       "      <td>155723.96</td>\n",
       "      <td>98200.0</td>\n",
       "      <td>57523.96</td>\n",
       "    </tr>\n",
       "    <tr>\n",
       "      <th>3</th>\n",
       "      <td>181605.75</td>\n",
       "      <td>109700.0</td>\n",
       "      <td>71905.75</td>\n",
       "    </tr>\n",
       "    <tr>\n",
       "      <th>4</th>\n",
       "      <td>154381.14</td>\n",
       "      <td>86100.0</td>\n",
       "      <td>68281.14</td>\n",
       "    </tr>\n",
       "    <tr>\n",
       "      <th>5</th>\n",
       "      <td>152465.62</td>\n",
       "      <td>142500.0</td>\n",
       "      <td>9965.62</td>\n",
       "    </tr>\n",
       "    <tr>\n",
       "      <th>6</th>\n",
       "      <td>142676.81</td>\n",
       "      <td>118800.0</td>\n",
       "      <td>23876.81</td>\n",
       "    </tr>\n",
       "    <tr>\n",
       "      <th>7</th>\n",
       "      <td>159837.86</td>\n",
       "      <td>115200.0</td>\n",
       "      <td>44637.86</td>\n",
       "    </tr>\n",
       "    <tr>\n",
       "      <th>8</th>\n",
       "      <td>131569.64</td>\n",
       "      <td>187500.0</td>\n",
       "      <td>55930.36</td>\n",
       "    </tr>\n",
       "    <tr>\n",
       "      <th>9</th>\n",
       "      <td>208009.98</td>\n",
       "      <td>241800.0</td>\n",
       "      <td>33790.02</td>\n",
       "    </tr>\n",
       "    <tr>\n",
       "      <th>10</th>\n",
       "      <td>192467.13</td>\n",
       "      <td>113900.0</td>\n",
       "      <td>78567.13</td>\n",
       "    </tr>\n",
       "    <tr>\n",
       "      <th>11</th>\n",
       "      <td>138295.08</td>\n",
       "      <td>108300.0</td>\n",
       "      <td>29995.08</td>\n",
       "    </tr>\n",
       "    <tr>\n",
       "      <th>12</th>\n",
       "      <td>154626.31</td>\n",
       "      <td>84400.0</td>\n",
       "      <td>70226.31</td>\n",
       "    </tr>\n",
       "    <tr>\n",
       "      <th>13</th>\n",
       "      <td>154270.69</td>\n",
       "      <td>191300.0</td>\n",
       "      <td>37029.31</td>\n",
       "    </tr>\n",
       "    <tr>\n",
       "      <th>14</th>\n",
       "      <td>188832.52</td>\n",
       "      <td>281500.0</td>\n",
       "      <td>92667.48</td>\n",
       "    </tr>\n",
       "    <tr>\n",
       "      <th>15</th>\n",
       "      <td>153893.43</td>\n",
       "      <td>85000.0</td>\n",
       "      <td>68893.43</td>\n",
       "    </tr>\n",
       "    <tr>\n",
       "      <th>16</th>\n",
       "      <td>150994.14</td>\n",
       "      <td>105500.0</td>\n",
       "      <td>45494.14</td>\n",
       "    </tr>\n",
       "    <tr>\n",
       "      <th>17</th>\n",
       "      <td>155407.18</td>\n",
       "      <td>104500.0</td>\n",
       "      <td>50907.18</td>\n",
       "    </tr>\n",
       "    <tr>\n",
       "      <th>18</th>\n",
       "      <td>138239.49</td>\n",
       "      <td>118800.0</td>\n",
       "      <td>19439.49</td>\n",
       "    </tr>\n",
       "    <tr>\n",
       "      <th>19</th>\n",
       "      <td>152563.09</td>\n",
       "      <td>155400.0</td>\n",
       "      <td>2836.91</td>\n",
       "    </tr>\n",
       "  </tbody>\n",
       "</table>\n",
       "</div>"
      ],
      "text/plain": [
       "    y_prediksi    y_asli     error\n",
       "0    163339.05   99700.0  63639.05\n",
       "1    141067.15  112500.0  28567.15\n",
       "2    155723.96   98200.0  57523.96\n",
       "3    181605.75  109700.0  71905.75\n",
       "4    154381.14   86100.0  68281.14\n",
       "5    152465.62  142500.0   9965.62\n",
       "6    142676.81  118800.0  23876.81\n",
       "7    159837.86  115200.0  44637.86\n",
       "8    131569.64  187500.0  55930.36\n",
       "9    208009.98  241800.0  33790.02\n",
       "10   192467.13  113900.0  78567.13\n",
       "11   138295.08  108300.0  29995.08\n",
       "12   154626.31   84400.0  70226.31\n",
       "13   154270.69  191300.0  37029.31\n",
       "14   188832.52  281500.0  92667.48\n",
       "15   153893.43   85000.0  68893.43\n",
       "16   150994.14  105500.0  45494.14\n",
       "17   155407.18  104500.0  50907.18\n",
       "18   138239.49  118800.0  19439.49\n",
       "19   152563.09  155400.0   2836.91"
      ]
     },
     "execution_count": 142,
     "metadata": {},
     "output_type": "execute_result"
    }
   ],
   "source": [
    "prediksi = pd.DataFrame(linreg.predict(x_test))\n",
    "prediksi.columns = ['y_prediksi']\n",
    "prediksi['y_prediksi'] = prediksi['y_prediksi'].apply(lambda x : round(x,2))\n",
    "prediksi['y_asli'] = list(y_test)\n",
    "prediksi['error'] = abs(prediksi['y_prediksi']-prediksi['y_asli'])\n",
    "prediksi"
   ]
  },
  {
   "cell_type": "code",
   "execution_count": 143,
   "metadata": {},
   "outputs": [
    {
     "data": {
      "text/html": [
       "<div>\n",
       "<style scoped>\n",
       "    .dataframe tbody tr th:only-of-type {\n",
       "        vertical-align: middle;\n",
       "    }\n",
       "\n",
       "    .dataframe tbody tr th {\n",
       "        vertical-align: top;\n",
       "    }\n",
       "\n",
       "    .dataframe thead th {\n",
       "        text-align: right;\n",
       "    }\n",
       "</style>\n",
       "<table border=\"1\" class=\"dataframe\">\n",
       "  <thead>\n",
       "    <tr style=\"text-align: right;\">\n",
       "      <th></th>\n",
       "      <th>y_prediksi</th>\n",
       "      <th>y_asli</th>\n",
       "      <th>error</th>\n",
       "    </tr>\n",
       "  </thead>\n",
       "  <tbody>\n",
       "    <tr>\n",
       "      <th>count</th>\n",
       "      <td>20.000000</td>\n",
       "      <td>20.000000</td>\n",
       "      <td>20.000000</td>\n",
       "    </tr>\n",
       "    <tr>\n",
       "      <th>mean</th>\n",
       "      <td>158513.301000</td>\n",
       "      <td>133030.000000</td>\n",
       "      <td>47708.709000</td>\n",
       "    </tr>\n",
       "    <tr>\n",
       "      <th>std</th>\n",
       "      <td>19733.409713</td>\n",
       "      <td>53441.055576</td>\n",
       "      <td>24250.277783</td>\n",
       "    </tr>\n",
       "    <tr>\n",
       "      <th>min</th>\n",
       "      <td>131569.640000</td>\n",
       "      <td>84400.000000</td>\n",
       "      <td>2836.910000</td>\n",
       "    </tr>\n",
       "    <tr>\n",
       "      <th>25%</th>\n",
       "      <td>148914.807500</td>\n",
       "      <td>103300.000000</td>\n",
       "      <td>29638.097500</td>\n",
       "    </tr>\n",
       "    <tr>\n",
       "      <th>50%</th>\n",
       "      <td>154325.915000</td>\n",
       "      <td>113200.000000</td>\n",
       "      <td>48200.660000</td>\n",
       "    </tr>\n",
       "    <tr>\n",
       "      <th>75%</th>\n",
       "      <td>160713.157500</td>\n",
       "      <td>145725.000000</td>\n",
       "      <td>68434.212500</td>\n",
       "    </tr>\n",
       "    <tr>\n",
       "      <th>max</th>\n",
       "      <td>208009.980000</td>\n",
       "      <td>281500.000000</td>\n",
       "      <td>92667.480000</td>\n",
       "    </tr>\n",
       "  </tbody>\n",
       "</table>\n",
       "</div>"
      ],
      "text/plain": [
       "          y_prediksi         y_asli         error\n",
       "count      20.000000      20.000000     20.000000\n",
       "mean   158513.301000  133030.000000  47708.709000\n",
       "std     19733.409713   53441.055576  24250.277783\n",
       "min    131569.640000   84400.000000   2836.910000\n",
       "25%    148914.807500  103300.000000  29638.097500\n",
       "50%    154325.915000  113200.000000  48200.660000\n",
       "75%    160713.157500  145725.000000  68434.212500\n",
       "max    208009.980000  281500.000000  92667.480000"
      ]
     },
     "execution_count": 143,
     "metadata": {},
     "output_type": "execute_result"
    }
   ],
   "source": [
    "prediksi.describe()"
   ]
  },
  {
   "cell_type": "code",
   "execution_count": 144,
   "metadata": {},
   "outputs": [
    {
     "data": {
      "text/plain": [
       "47708.709"
      ]
     },
     "execution_count": 144,
     "metadata": {},
     "output_type": "execute_result"
    }
   ],
   "source": [
    "mean_absolute_error(prediksi['y_prediksi'], y_test)"
   ]
  },
  {
   "cell_type": "code",
   "execution_count": 145,
   "metadata": {},
   "outputs": [
    {
     "data": {
      "text/plain": [
       "Index(['total_rooms', 'housing_median_age', 'population',\n",
       "       'median_house_value'],\n",
       "      dtype='object')"
      ]
     },
     "execution_count": 145,
     "metadata": {},
     "output_type": "execute_result"
    }
   ],
   "source": [
    "files.columns"
   ]
  },
  {
   "cell_type": "code",
   "execution_count": 146,
   "metadata": {},
   "outputs": [
    {
     "data": {
      "image/png": "[encoded data removed]",
      "text/plain": [
       "<Figure size 1152x360 with 3 Axes>"
      ]
     },
     "metadata": {
      "needs_background": "light"
     },
     "output_type": "display_data"
    }
   ],
   "source": [
    "plt.figure(figsize=(16,5))\n",
    "plt.subplot(131)\n",
    "plt.title('total_rooms vs median_house_value')\n",
    "plt.plot(files['total_rooms'], \n",
    "         files.median_house_value, '*k')\n",
    "\n",
    "plt.subplot(132)\n",
    "plt.title('housing_median_age vs median_house_value')\n",
    "plt.plot(files['housing_median_age'], \n",
    "         files.median_house_value, '*c')\n",
    "\n",
    "plt.subplot(133)\n",
    "plt.title('population vs median_house_value')\n",
    "plt.plot(files['population'], \n",
    "         files.median_house_value, '*y') \n",
    "plt.show()"
   ]
  },
  {
   "cell_type": "code",
   "execution_count": 147,
   "metadata": {},
   "outputs": [
    {
     "data": {
      "text/plain": [
       "Index(['total_rooms', 'housing_median_age', 'population',\n",
       "       'median_house_value'],\n",
       "      dtype='object')"
      ]
     },
     "execution_count": 147,
     "metadata": {},
     "output_type": "execute_result"
    }
   ],
   "source": [
    "files.columns"
   ]
  },
  {
   "cell_type": "code",
   "execution_count": 148,
   "metadata": {},
   "outputs": [
    {
     "name": "stdout",
     "output_type": "stream",
     "text": [
      "(80, 3) (20, 3) (80,) (20,)\n"
     ]
    }
   ],
   "source": [
    "x = files.iloc[:,:-1]\n",
    "y = files.iloc[:, -1]\n",
    "\n",
    "x_train, x_test, y_train, y_test = train_test_split(x, y, \n",
    "                                                    random_state=21, \n",
    "                                                    test_size=.2)\n",
    "print(x_train.shape, \n",
    "      x_test.shape, \n",
    "      y_train.shape, \n",
    "      y_test.shape)"
   ]
  },
  {
   "cell_type": "code",
   "execution_count": 149,
   "metadata": {},
   "outputs": [
    {
     "data": {
      "text/plain": [
       "DecisionTreeRegressor(max_depth=6, random_state=34)"
      ]
     },
     "execution_count": 149,
     "metadata": {},
     "output_type": "execute_result"
    }
   ],
   "source": [
    "lr = LinearRegression()\n",
    "lr.fit(x_train, y_train)\n",
    "\n",
    "las = Lasso(alpha=.01)\n",
    "las.fit(x_train, y_train)\n",
    "\n",
    "rid = Ridge(alpha=.01)\n",
    "rid.fit(x_train, y_train)\n",
    "\n",
    "svr = SVR()\n",
    "svr.fit(x_train, y_train)\n",
    "\n",
    "dt = DecisionTreeRegressor( max_depth=6, random_state=34)\n",
    "dt.fit(x_train, y_train)"
   ]
  },
  {
   "cell_type": "code",
   "execution_count": 150,
   "metadata": {},
   "outputs": [
    {
     "data": {
      "text/html": [
       "<div>\n",
       "<style scoped>\n",
       "    .dataframe tbody tr th:only-of-type {\n",
       "        vertical-align: middle;\n",
       "    }\n",
       "\n",
       "    .dataframe tbody tr th {\n",
       "        vertical-align: top;\n",
       "    }\n",
       "\n",
       "    .dataframe thead th {\n",
       "        text-align: right;\n",
       "    }\n",
       "</style>\n",
       "<table border=\"1\" class=\"dataframe\">\n",
       "  <thead>\n",
       "    <tr style=\"text-align: right;\">\n",
       "      <th></th>\n",
       "      <th>Model</th>\n",
       "      <th>MAE_train</th>\n",
       "      <th>MSE_train</th>\n",
       "      <th>R^2_train</th>\n",
       "    </tr>\n",
       "  </thead>\n",
       "  <tbody>\n",
       "    <tr>\n",
       "      <th>0</th>\n",
       "      <td>lr</td>\n",
       "      <td>53376.585777</td>\n",
       "      <td>6.136377e+09</td>\n",
       "      <td>-5.503205e+00</td>\n",
       "    </tr>\n",
       "    <tr>\n",
       "      <th>1</th>\n",
       "      <td>las</td>\n",
       "      <td>53376.585651</td>\n",
       "      <td>6.136377e+09</td>\n",
       "      <td>-5.503205e+00</td>\n",
       "    </tr>\n",
       "    <tr>\n",
       "      <th>2</th>\n",
       "      <td>rid</td>\n",
       "      <td>53376.585344</td>\n",
       "      <td>6.136377e+09</td>\n",
       "      <td>-5.503205e+00</td>\n",
       "    </tr>\n",
       "    <tr>\n",
       "      <th>3</th>\n",
       "      <td>svr</td>\n",
       "      <td>55887.032197</td>\n",
       "      <td>7.438262e+09</td>\n",
       "      <td>-1.161338e+09</td>\n",
       "    </tr>\n",
       "    <tr>\n",
       "      <th>4</th>\n",
       "      <td>dt</td>\n",
       "      <td>16004.832251</td>\n",
       "      <td>5.683615e+08</td>\n",
       "      <td>9.127156e-01</td>\n",
       "    </tr>\n",
       "  </tbody>\n",
       "</table>\n",
       "</div>"
      ],
      "text/plain": [
       "  Model     MAE_train     MSE_train     R^2_train\n",
       "0    lr  53376.585777  6.136377e+09 -5.503205e+00\n",
       "1   las  53376.585651  6.136377e+09 -5.503205e+00\n",
       "2   rid  53376.585344  6.136377e+09 -5.503205e+00\n",
       "3   svr  55887.032197  7.438262e+09 -1.161338e+09\n",
       "4    dt  16004.832251  5.683615e+08  9.127156e-01"
      ]
     },
     "execution_count": 150,
     "metadata": {},
     "output_type": "execute_result"
    }
   ],
   "source": [
    "model = ['lr','las','rid','svr','dt']\n",
    "\n",
    "mae = []\n",
    "mae.append(mean_absolute_error(lr.predict(x_train), y_train))\n",
    "mae.append(mean_absolute_error(las.predict(x_train), y_train))\n",
    "mae.append(mean_absolute_error(rid.predict(x_train), y_train))\n",
    "mae.append(mean_absolute_error(svr.predict(x_train), y_train))\n",
    "mae.append(mean_absolute_error(dt.predict(x_train), y_train))\n",
    "\n",
    "mse = []\n",
    "mse.append(mean_squared_error(lr.predict(x_train), y_train))\n",
    "mse.append(mean_squared_error(las.predict(x_train), y_train))\n",
    "mse.append(mean_squared_error(rid.predict(x_train), y_train))\n",
    "mse.append(mean_squared_error(svr.predict(x_train), y_train))\n",
    "mse.append(mean_squared_error(dt.predict(x_train), y_train))\n",
    "\n",
    "r2 = []\n",
    "r2.append(r2_score(lr.predict(x_train), y_train))\n",
    "r2.append(r2_score(las.predict(x_train), y_train))\n",
    "r2.append(r2_score(rid.predict(x_train), y_train))\n",
    "r2.append(r2_score(svr.predict(x_train), y_train))\n",
    "r2.append(r2_score(dt.predict(x_train), y_train))\n",
    "\n",
    "metrics_train = pd.DataFrame({'Model' : model, 'MAE_train' : mae, 'MSE_train' : mse, 'R^2_train' : r2})\n",
    "metrics_train"
   ]
  },
  {
   "cell_type": "code",
   "execution_count": 151,
   "metadata": {},
   "outputs": [
    {
     "data": {
      "text/html": [
       "<div>\n",
       "<style scoped>\n",
       "    .dataframe tbody tr th:only-of-type {\n",
       "        vertical-align: middle;\n",
       "    }\n",
       "\n",
       "    .dataframe tbody tr th {\n",
       "        vertical-align: top;\n",
       "    }\n",
       "\n",
       "    .dataframe thead th {\n",
       "        text-align: right;\n",
       "    }\n",
       "</style>\n",
       "<table border=\"1\" class=\"dataframe\">\n",
       "  <thead>\n",
       "    <tr style=\"text-align: right;\">\n",
       "      <th></th>\n",
       "      <th>Model</th>\n",
       "      <th>MAE_test</th>\n",
       "      <th>MSE_test</th>\n",
       "      <th>R^2_test</th>\n",
       "    </tr>\n",
       "  </thead>\n",
       "  <tbody>\n",
       "    <tr>\n",
       "      <th>0</th>\n",
       "      <td>lr</td>\n",
       "      <td>47708.709552</td>\n",
       "      <td>2.834793e+09</td>\n",
       "      <td>-6.662907e+00</td>\n",
       "    </tr>\n",
       "    <tr>\n",
       "      <th>1</th>\n",
       "      <td>las</td>\n",
       "      <td>47708.709392</td>\n",
       "      <td>2.834793e+09</td>\n",
       "      <td>-6.662907e+00</td>\n",
       "    </tr>\n",
       "    <tr>\n",
       "      <th>2</th>\n",
       "      <td>rid</td>\n",
       "      <td>47708.708993</td>\n",
       "      <td>2.834793e+09</td>\n",
       "      <td>-6.662907e+00</td>\n",
       "    </tr>\n",
       "    <tr>\n",
       "      <th>3</th>\n",
       "      <td>svr</td>\n",
       "      <td>41970.559477</td>\n",
       "      <td>2.733054e+09</td>\n",
       "      <td>-4.339341e+08</td>\n",
       "    </tr>\n",
       "    <tr>\n",
       "      <th>4</th>\n",
       "      <td>dt</td>\n",
       "      <td>34341.612554</td>\n",
       "      <td>2.400867e+09</td>\n",
       "      <td>-7.037317e-01</td>\n",
       "    </tr>\n",
       "  </tbody>\n",
       "</table>\n",
       "</div>"
      ],
      "text/plain": [
       "  Model      MAE_test      MSE_test      R^2_test\n",
       "0    lr  47708.709552  2.834793e+09 -6.662907e+00\n",
       "1   las  47708.709392  2.834793e+09 -6.662907e+00\n",
       "2   rid  47708.708993  2.834793e+09 -6.662907e+00\n",
       "3   svr  41970.559477  2.733054e+09 -4.339341e+08\n",
       "4    dt  34341.612554  2.400867e+09 -7.037317e-01"
      ]
     },
     "execution_count": 151,
     "metadata": {},
     "output_type": "execute_result"
    }
   ],
   "source": [
    "mae = []\n",
    "mae.append(mean_absolute_error(lr.predict(x_test), y_test))\n",
    "mae.append(mean_absolute_error(las.predict(x_test), y_test))\n",
    "mae.append(mean_absolute_error(rid.predict(x_test), y_test))\n",
    "mae.append(mean_absolute_error(svr.predict(x_test), y_test))\n",
    "mae.append(mean_absolute_error(dt.predict(x_test), y_test))\n",
    "\n",
    "mse = []\n",
    "mse.append(mean_squared_error(lr.predict(x_test), y_test))\n",
    "mse.append(mean_squared_error(las.predict(x_test), y_test))\n",
    "mse.append(mean_squared_error(rid.predict(x_test), y_test))\n",
    "mse.append(mean_squared_error(svr.predict(x_test), y_test))\n",
    "mse.append(mean_squared_error(dt.predict(x_test), y_test))\n",
    "\n",
    "r2 = []\n",
    "r2.append(r2_score(lr.predict(x_test), y_test))\n",
    "r2.append(r2_score(las.predict(x_test), y_test))\n",
    "r2.append(r2_score(rid.predict(x_test), y_test))\n",
    "r2.append(r2_score(svr.predict(x_test), y_test))\n",
    "r2.append(r2_score(dt.predict(x_test), y_test))\n",
    "\n",
    "metrics_test = pd.DataFrame({'Model' : model, 'MAE_test' : mae, 'MSE_test' : mse, 'R^2_test' : r2})\n",
    "metrics_test"
   ]
  },
  {
   "cell_type": "code",
   "execution_count": 152,
   "metadata": {},
   "outputs": [
    {
     "data": {
      "text/html": [
       "<div>\n",
       "<style scoped>\n",
       "    .dataframe tbody tr th:only-of-type {\n",
       "        vertical-align: middle;\n",
       "    }\n",
       "\n",
       "    .dataframe tbody tr th {\n",
       "        vertical-align: top;\n",
       "    }\n",
       "\n",
       "    .dataframe thead th {\n",
       "        text-align: right;\n",
       "    }\n",
       "</style>\n",
       "<table border=\"1\" class=\"dataframe\">\n",
       "  <thead>\n",
       "    <tr style=\"text-align: right;\">\n",
       "      <th></th>\n",
       "      <th>Model</th>\n",
       "      <th>MAE_train</th>\n",
       "      <th>MAE_test</th>\n",
       "      <th>MSE_train</th>\n",
       "      <th>MSE_test</th>\n",
       "      <th>R^2_train</th>\n",
       "      <th>R^2_test</th>\n",
       "    </tr>\n",
       "  </thead>\n",
       "  <tbody>\n",
       "    <tr>\n",
       "      <th>0</th>\n",
       "      <td>lr</td>\n",
       "      <td>53376.585777</td>\n",
       "      <td>47708.709552</td>\n",
       "      <td>6.136377e+09</td>\n",
       "      <td>2.834793e+09</td>\n",
       "      <td>-5.503205e+00</td>\n",
       "      <td>-6.662907e+00</td>\n",
       "    </tr>\n",
       "    <tr>\n",
       "      <th>1</th>\n",
       "      <td>las</td>\n",
       "      <td>53376.585651</td>\n",
       "      <td>47708.709392</td>\n",
       "      <td>6.136377e+09</td>\n",
       "      <td>2.834793e+09</td>\n",
       "      <td>-5.503205e+00</td>\n",
       "      <td>-6.662907e+00</td>\n",
       "    </tr>\n",
       "    <tr>\n",
       "      <th>2</th>\n",
       "      <td>rid</td>\n",
       "      <td>53376.585344</td>\n",
       "      <td>47708.708993</td>\n",
       "      <td>6.136377e+09</td>\n",
       "      <td>2.834793e+09</td>\n",
       "      <td>-5.503205e+00</td>\n",
       "      <td>-6.662907e+00</td>\n",
       "    </tr>\n",
       "    <tr>\n",
       "      <th>3</th>\n",
       "      <td>svr</td>\n",
       "      <td>55887.032197</td>\n",
       "      <td>41970.559477</td>\n",
       "      <td>7.438262e+09</td>\n",
       "      <td>2.733054e+09</td>\n",
       "      <td>-1.161338e+09</td>\n",
       "      <td>-4.339341e+08</td>\n",
       "    </tr>\n",
       "    <tr>\n",
       "      <th>4</th>\n",
       "      <td>dt</td>\n",
       "      <td>16004.832251</td>\n",
       "      <td>34341.612554</td>\n",
       "      <td>5.683615e+08</td>\n",
       "      <td>2.400867e+09</td>\n",
       "      <td>9.127156e-01</td>\n",
       "      <td>-7.037317e-01</td>\n",
       "    </tr>\n",
       "  </tbody>\n",
       "</table>\n",
       "</div>"
      ],
      "text/plain": [
       "  Model     MAE_train      MAE_test     MSE_train      MSE_test     R^2_train  \\\n",
       "0    lr  53376.585777  47708.709552  6.136377e+09  2.834793e+09 -5.503205e+00   \n",
       "1   las  53376.585651  47708.709392  6.136377e+09  2.834793e+09 -5.503205e+00   \n",
       "2   rid  53376.585344  47708.708993  6.136377e+09  2.834793e+09 -5.503205e+00   \n",
       "3   svr  55887.032197  41970.559477  7.438262e+09  2.733054e+09 -1.161338e+09   \n",
       "4    dt  16004.832251  34341.612554  5.683615e+08  2.400867e+09  9.127156e-01   \n",
       "\n",
       "       R^2_test  \n",
       "0 -6.662907e+00  \n",
       "1 -6.662907e+00  \n",
       "2 -6.662907e+00  \n",
       "3 -4.339341e+08  \n",
       "4 -7.037317e-01  "
      ]
     },
     "execution_count": 152,
     "metadata": {},
     "output_type": "execute_result"
    }
   ],
   "source": [
    "metrics = metrics_train.merge(metrics_test, on='Model')\n",
    "metrics = metrics[['Model', 'MAE_train', 'MAE_test', 'MSE_train', 'MSE_test', 'R^2_train','R^2_test']]\n",
    "metrics"
   ]
  },
  {
   "cell_type": "code",
   "execution_count": 153,
   "metadata": {},
   "outputs": [
    {
     "data": {
      "image/png": "[encoded data removed]",
      "text/plain": [
       "<Figure size 1152x720 with 6 Axes>"
      ]
     },
     "metadata": {
      "needs_background": "light"
     },
     "output_type": "display_data"
    }
   ],
   "source": [
    "plt.figure(figsize=(16,10))\n",
    "plt.subplot(231)\n",
    "plt.title('MAE Train')\n",
    "sbs.barplot(x=metrics.Model, y=metrics.MAE_train)\n",
    "\n",
    "plt.subplot(234)\n",
    "plt.title('MAE Test')\n",
    "sbs.barplot(x=metrics.Model, y=metrics.MAE_test)\n",
    "\n",
    "plt.subplot(232)\n",
    "plt.title('MSE Train')\n",
    "sbs.barplot(x=metrics.Model, y=metrics.MSE_train)\n",
    "\n",
    "plt.subplot(235)\n",
    "plt.title('MSE Test')\n",
    "sbs.barplot(x=metrics.Model, y=metrics.MSE_test)\n",
    "\n",
    "plt.subplot(233)\n",
    "plt.title('R^2 Train')\n",
    "sbs.barplot(x=metrics.Model, y=metrics['R^2_train'])\n",
    "\n",
    "plt.subplot(236)\n",
    "plt.title('R^2 Test')\n",
    "sbs.barplot(x=metrics.Model, y=metrics['R^2_test'])\n",
    "plt.show()"
   ]
  },
  {
   "cell_type": "code",
   "execution_count": 154,
   "metadata": {},
   "outputs": [
    {
     "data": {
      "text/plain": [
       "[]"
      ]
     },
     "execution_count": 154,
     "metadata": {},
     "output_type": "execute_result"
    },
    {
     "data": {
      "image/png": "[encoded data removed]",
      "text/plain": [
       "<Figure size 1152x576 with 5 Axes>"
      ]
     },
     "metadata": {
      "needs_background": "light"
     },
     "output_type": "display_data"
    }
   ],
   "source": [
    "plt.figure(figsize=(16,8))\n",
    "plt.subplot(231)\n",
    "plt.title('Decision Tree')\n",
    "plt.plot(y_test.values)\n",
    "plt.plot(dt.predict(x_test))\n",
    "plt.legend(labels=['Real','Predicted'])\n",
    "\n",
    "plt.subplot(232)\n",
    "plt.title('SVR')\n",
    "plt.plot(y_test.values)\n",
    "plt.plot(svr.predict(x_test))\n",
    "plt.legend(labels=['Real','Predicted'])\n",
    "\n",
    "plt.subplot(233)\n",
    "plt.title('Linear Regression')\n",
    "plt.plot(y_test.values)\n",
    "plt.plot(lr.predict(x_test))\n",
    "plt.legend(labels=['Real','Predicted'])\n",
    "\n",
    "plt.subplot(234)\n",
    "plt.title('Lasso Regression')\n",
    "plt.plot(y_test.values)\n",
    "plt.plot(las.predict(x_test))\n",
    "plt.legend(labels=['Real','Predicted'])\n",
    "\n",
    "plt.subplot(235)\n",
    "plt.title('Ridge Regression')\n",
    "plt.plot(y_test.values)\n",
    "plt.plot(rid.predict(x_test))\n",
    "plt.legend(labels=['Real','Predicted'])\n",
    "\n",
    "plt.plot()"
   ]
  }
 ],
 "metadata": {
  "kernelspec": {
   "display_name": "Python 3.9.12 ('base')",
   "language": "python",
   "name": "python3"
  },
  "language_info": {
   "codemirror_mode": {
    "name": "ipython",
    "version": 3
   },
   "file_extension": ".py",
   "mimetype": "text/x-python",
   "name": "python",
   "nbconvert_exporter": "python",
   "pygments_lexer": "ipython3",
   "version": "3.9.12"
  },
  "orig_nbformat": 4,
  "vscode": {
   "interpreter": {
    "hash": "fc6a87218d93c3eb3aa29305b960fd7fc714f48d8ac50960275ef4f8856ba0fd"
   }
  }
 },
 "nbformat": 4,
 "nbformat_minor": 2
}
