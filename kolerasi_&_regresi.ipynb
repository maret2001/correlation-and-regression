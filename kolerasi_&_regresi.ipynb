{
 "cells": [
  {
   "cell_type": "markdown",
   "metadata": {},
   "source": [
    "# Maret Ismoyo"
   ]
  },
  {
   "cell_type": "markdown",
   "metadata": {},
   "source": [
    "## Import Library"
   ]
  },
  {
   "cell_type": "code",
   "execution_count": 3,
   "metadata": {},
   "outputs": [],
   "source": [
    "import pandas as pd\n",
    "import matplotlib.pyplot as plt\n",
    "import scipy as sp\n",
    "import seaborn as sbs\n",
    "import numpy as np\n",
    "from sklearn.linear_model import LinearRegression\n",
    "from sklearn.model_selection import train_test_split\n",
    "from sklearn.metrics import mean_absolute_error\n",
    "from sklearn.preprocessing import MinMaxScaler"
   ]
  },
  {
   "cell_type": "markdown",
   "metadata": {},
   "source": [
    "## Data Exploration"
   ]
  },
  {
   "cell_type": "code",
   "execution_count": 4,
   "metadata": {},
   "outputs": [
    {
     "data": {
      "text/html": [
       "<div>\n",
       "<style scoped>\n",
       "    .dataframe tbody tr th:only-of-type {\n",
       "        vertical-align: middle;\n",
       "    }\n",
       "\n",
       "    .dataframe tbody tr th {\n",
       "        vertical-align: top;\n",
       "    }\n",
       "\n",
       "    .dataframe thead th {\n",
       "        text-align: right;\n",
       "    }\n",
       "</style>\n",
       "<table border=\"1\" class=\"dataframe\">\n",
       "  <thead>\n",
       "    <tr style=\"text-align: right;\">\n",
       "      <th></th>\n",
       "      <th>sqft_living</th>\n",
       "      <th>sqft_living15</th>\n",
       "      <th>sqft_above</th>\n",
       "      <th>price</th>\n",
       "    </tr>\n",
       "  </thead>\n",
       "  <tbody>\n",
       "    <tr>\n",
       "      <th>0</th>\n",
       "      <td>1180</td>\n",
       "      <td>1340</td>\n",
       "      <td>1180</td>\n",
       "      <td>221900.0</td>\n",
       "    </tr>\n",
       "    <tr>\n",
       "      <th>1</th>\n",
       "      <td>2570</td>\n",
       "      <td>1690</td>\n",
       "      <td>2170</td>\n",
       "      <td>538000.0</td>\n",
       "    </tr>\n",
       "    <tr>\n",
       "      <th>2</th>\n",
       "      <td>770</td>\n",
       "      <td>2720</td>\n",
       "      <td>770</td>\n",
       "      <td>180000.0</td>\n",
       "    </tr>\n",
       "    <tr>\n",
       "      <th>3</th>\n",
       "      <td>1960</td>\n",
       "      <td>1360</td>\n",
       "      <td>1050</td>\n",
       "      <td>604000.0</td>\n",
       "    </tr>\n",
       "    <tr>\n",
       "      <th>4</th>\n",
       "      <td>1680</td>\n",
       "      <td>1800</td>\n",
       "      <td>1680</td>\n",
       "      <td>510000.0</td>\n",
       "    </tr>\n",
       "    <tr>\n",
       "      <th>5</th>\n",
       "      <td>5420</td>\n",
       "      <td>4760</td>\n",
       "      <td>3890</td>\n",
       "      <td>1225000.0</td>\n",
       "    </tr>\n",
       "    <tr>\n",
       "      <th>6</th>\n",
       "      <td>1715</td>\n",
       "      <td>2238</td>\n",
       "      <td>1715</td>\n",
       "      <td>257500.0</td>\n",
       "    </tr>\n",
       "    <tr>\n",
       "      <th>7</th>\n",
       "      <td>1060</td>\n",
       "      <td>1650</td>\n",
       "      <td>1060</td>\n",
       "      <td>291850.0</td>\n",
       "    </tr>\n",
       "    <tr>\n",
       "      <th>8</th>\n",
       "      <td>1780</td>\n",
       "      <td>1780</td>\n",
       "      <td>1050</td>\n",
       "      <td>229500.0</td>\n",
       "    </tr>\n",
       "    <tr>\n",
       "      <th>9</th>\n",
       "      <td>1890</td>\n",
       "      <td>2390</td>\n",
       "      <td>1890</td>\n",
       "      <td>323000.0</td>\n",
       "    </tr>\n",
       "    <tr>\n",
       "      <th>10</th>\n",
       "      <td>3560</td>\n",
       "      <td>2210</td>\n",
       "      <td>1860</td>\n",
       "      <td>662500.0</td>\n",
       "    </tr>\n",
       "    <tr>\n",
       "      <th>11</th>\n",
       "      <td>1160</td>\n",
       "      <td>1330</td>\n",
       "      <td>860</td>\n",
       "      <td>468000.0</td>\n",
       "    </tr>\n",
       "    <tr>\n",
       "      <th>12</th>\n",
       "      <td>1430</td>\n",
       "      <td>1780</td>\n",
       "      <td>1430</td>\n",
       "      <td>310000.0</td>\n",
       "    </tr>\n",
       "    <tr>\n",
       "      <th>13</th>\n",
       "      <td>1370</td>\n",
       "      <td>1370</td>\n",
       "      <td>1370</td>\n",
       "      <td>400000.0</td>\n",
       "    </tr>\n",
       "    <tr>\n",
       "      <th>14</th>\n",
       "      <td>1810</td>\n",
       "      <td>1360</td>\n",
       "      <td>1810</td>\n",
       "      <td>530000.0</td>\n",
       "    </tr>\n",
       "    <tr>\n",
       "      <th>15</th>\n",
       "      <td>2950</td>\n",
       "      <td>2140</td>\n",
       "      <td>1980</td>\n",
       "      <td>650000.0</td>\n",
       "    </tr>\n",
       "    <tr>\n",
       "      <th>16</th>\n",
       "      <td>1890</td>\n",
       "      <td>1890</td>\n",
       "      <td>1890</td>\n",
       "      <td>395000.0</td>\n",
       "    </tr>\n",
       "    <tr>\n",
       "      <th>17</th>\n",
       "      <td>1600</td>\n",
       "      <td>1610</td>\n",
       "      <td>1600</td>\n",
       "      <td>485000.0</td>\n",
       "    </tr>\n",
       "    <tr>\n",
       "      <th>18</th>\n",
       "      <td>1200</td>\n",
       "      <td>1060</td>\n",
       "      <td>1200</td>\n",
       "      <td>189000.0</td>\n",
       "    </tr>\n",
       "    <tr>\n",
       "      <th>19</th>\n",
       "      <td>1250</td>\n",
       "      <td>1280</td>\n",
       "      <td>1250</td>\n",
       "      <td>230000.0</td>\n",
       "    </tr>\n",
       "  </tbody>\n",
       "</table>\n",
       "</div>"
      ],
      "text/plain": [
       "    sqft_living  sqft_living15  sqft_above      price\n",
       "0          1180           1340        1180   221900.0\n",
       "1          2570           1690        2170   538000.0\n",
       "2           770           2720         770   180000.0\n",
       "3          1960           1360        1050   604000.0\n",
       "4          1680           1800        1680   510000.0\n",
       "5          5420           4760        3890  1225000.0\n",
       "6          1715           2238        1715   257500.0\n",
       "7          1060           1650        1060   291850.0\n",
       "8          1780           1780        1050   229500.0\n",
       "9          1890           2390        1890   323000.0\n",
       "10         3560           2210        1860   662500.0\n",
       "11         1160           1330         860   468000.0\n",
       "12         1430           1780        1430   310000.0\n",
       "13         1370           1370        1370   400000.0\n",
       "14         1810           1360        1810   530000.0\n",
       "15         2950           2140        1980   650000.0\n",
       "16         1890           1890        1890   395000.0\n",
       "17         1600           1610        1600   485000.0\n",
       "18         1200           1060        1200   189000.0\n",
       "19         1250           1280        1250   230000.0"
      ]
     },
     "execution_count": 4,
     "metadata": {},
     "output_type": "execute_result"
    }
   ],
   "source": [
    "dokumen = pd.read_csv('kc_house_3_features.csv')\n",
    "dokumen.head(20)"
   ]
  },
  {
   "cell_type": "code",
   "execution_count": 5,
   "metadata": {},
   "outputs": [
    {
     "data": {
      "text/plain": [
       "(100, 4)"
      ]
     },
     "execution_count": 5,
     "metadata": {},
     "output_type": "execute_result"
    }
   ],
   "source": [
    "dokumen.shape"
   ]
  },
  {
   "cell_type": "code",
   "execution_count": 6,
   "metadata": {},
   "outputs": [
    {
     "name": "stdout",
     "output_type": "stream",
     "text": [
      "<class 'pandas.core.frame.DataFrame'>\n",
      "RangeIndex: 100 entries, 0 to 99\n",
      "Data columns (total 4 columns):\n",
      " #   Column         Non-Null Count  Dtype  \n",
      "---  ------         --------------  -----  \n",
      " 0   sqft_living    100 non-null    int64  \n",
      " 1   sqft_living15  100 non-null    int64  \n",
      " 2   sqft_above     100 non-null    int64  \n",
      " 3   price          100 non-null    float64\n",
      "dtypes: float64(1), int64(3)\n",
      "memory usage: 3.2 KB\n"
     ]
    }
   ],
   "source": [
    "dokumen.info()"
   ]
  },
  {
   "cell_type": "code",
   "execution_count": 7,
   "metadata": {},
   "outputs": [
    {
     "data": {
      "text/plain": [
       "82"
      ]
     },
     "execution_count": 7,
     "metadata": {},
     "output_type": "execute_result"
    }
   ],
   "source": [
    "dokumen.sqft_living.nunique()"
   ]
  },
  {
   "cell_type": "markdown",
   "metadata": {},
   "source": [
    "## Korelasi dan Regresi"
   ]
  },
  {
   "cell_type": "code",
   "execution_count": 8,
   "metadata": {},
   "outputs": [
    {
     "data": {
      "text/plain": [
       "Index(['sqft_living', 'sqft_living15', 'sqft_above', 'price'], dtype='object')"
      ]
     },
     "execution_count": 8,
     "metadata": {},
     "output_type": "execute_result"
    }
   ],
   "source": [
    "dokumen.columns"
   ]
  },
  {
   "cell_type": "code",
   "execution_count": 9,
   "metadata": {},
   "outputs": [
    {
     "data": {
      "text/html": [
       "<div>\n",
       "<style scoped>\n",
       "    .dataframe tbody tr th:only-of-type {\n",
       "        vertical-align: middle;\n",
       "    }\n",
       "\n",
       "    .dataframe tbody tr th {\n",
       "        vertical-align: top;\n",
       "    }\n",
       "\n",
       "    .dataframe thead th {\n",
       "        text-align: right;\n",
       "    }\n",
       "</style>\n",
       "<table border=\"1\" class=\"dataframe\">\n",
       "  <thead>\n",
       "    <tr style=\"text-align: right;\">\n",
       "      <th></th>\n",
       "      <th>sqft_living</th>\n",
       "      <th>sqft_living15</th>\n",
       "      <th>sqft_above</th>\n",
       "      <th>price</th>\n",
       "    </tr>\n",
       "  </thead>\n",
       "  <tbody>\n",
       "    <tr>\n",
       "      <th>sqft_living</th>\n",
       "      <td>1.000000</td>\n",
       "      <td>0.774798</td>\n",
       "      <td>0.837615</td>\n",
       "      <td>0.650602</td>\n",
       "    </tr>\n",
       "    <tr>\n",
       "      <th>sqft_living15</th>\n",
       "      <td>0.774798</td>\n",
       "      <td>1.000000</td>\n",
       "      <td>0.755848</td>\n",
       "      <td>0.648145</td>\n",
       "    </tr>\n",
       "    <tr>\n",
       "      <th>sqft_above</th>\n",
       "      <td>0.837615</td>\n",
       "      <td>0.755848</td>\n",
       "      <td>1.000000</td>\n",
       "      <td>0.515989</td>\n",
       "    </tr>\n",
       "    <tr>\n",
       "      <th>price</th>\n",
       "      <td>0.650602</td>\n",
       "      <td>0.648145</td>\n",
       "      <td>0.515989</td>\n",
       "      <td>1.000000</td>\n",
       "    </tr>\n",
       "  </tbody>\n",
       "</table>\n",
       "</div>"
      ],
      "text/plain": [
       "               sqft_living  sqft_living15  sqft_above     price\n",
       "sqft_living       1.000000       0.774798    0.837615  0.650602\n",
       "sqft_living15     0.774798       1.000000    0.755848  0.648145\n",
       "sqft_above        0.837615       0.755848    1.000000  0.515989\n",
       "price             0.650602       0.648145    0.515989  1.000000"
      ]
     },
     "execution_count": 9,
     "metadata": {},
     "output_type": "execute_result"
    }
   ],
   "source": [
    "korelasi = dokumen.corr()\n",
    "korelasi"
   ]
  },
  {
   "cell_type": "code",
   "execution_count": 10,
   "metadata": {},
   "outputs": [
    {
     "data": {
      "image/png": "[encoded data removed]",
      "text/plain": [
       "<Figure size 432x288 with 2 Axes>"
      ]
     },
     "metadata": {
      "needs_background": "light"
     },
     "output_type": "display_data"
    }
   ],
   "source": [
    "sbs.heatmap(korelasi, annot=True)\n",
    "plt.show()"
   ]
  },
  {
   "cell_type": "code",
   "execution_count": 11,
   "metadata": {},
   "outputs": [
    {
     "data": {
      "text/plain": [
       "Index(['sqft_living', 'sqft_living15', 'sqft_above', 'price'], dtype='object')"
      ]
     },
     "execution_count": 11,
     "metadata": {},
     "output_type": "execute_result"
    }
   ],
   "source": [
    "dokumen.columns"
   ]
  },
  {
   "cell_type": "markdown",
   "metadata": {},
   "source": [
    "## Split Data"
   ]
  },
  {
   "cell_type": "code",
   "execution_count": 12,
   "metadata": {},
   "outputs": [
    {
     "name": "stdout",
     "output_type": "stream",
     "text": [
      "dokumen = (100, 4)\n",
      "x_train = (80, 3)\n",
      "x_test = (20, 3)\n",
      "y_train = (80,)\n",
      "y_test = (20,)\n"
     ]
    }
   ],
   "source": [
    "x = dokumen[['sqft_living', 'sqft_living15', 'sqft_above']]\n",
    "y = dokumen.price\n",
    "x_train, x_test, y_train, y_test = train_test_split(x, y, test_size=.2, random_state=21) # untuk membagi data \n",
    "print(f'dokumen = {dokumen.shape}\\nx_train = {x_train.shape}\\nx_test = {x_test.shape}\\ny_train = {y_train.shape}\\ny_test = {y_test.shape}')"
   ]
  },
  {
   "cell_type": "markdown",
   "metadata": {},
   "source": [
    "## Linear Regression Modelling "
   ]
  },
  {
   "cell_type": "code",
   "execution_count": 13,
   "metadata": {},
   "outputs": [
    {
     "data": {
      "text/plain": [
       "LinearRegression()"
      ]
     },
     "execution_count": 13,
     "metadata": {},
     "output_type": "execute_result"
    }
   ],
   "source": [
    "linreg = LinearRegression()\n",
    "linreg.fit(x_train, y_train)"
   ]
  },
  {
   "cell_type": "code",
   "execution_count": 14,
   "metadata": {},
   "outputs": [
    {
     "data": {
      "text/html": [
       "<div>\n",
       "<style scoped>\n",
       "    .dataframe tbody tr th:only-of-type {\n",
       "        vertical-align: middle;\n",
       "    }\n",
       "\n",
       "    .dataframe tbody tr th {\n",
       "        vertical-align: top;\n",
       "    }\n",
       "\n",
       "    .dataframe thead th {\n",
       "        text-align: right;\n",
       "    }\n",
       "</style>\n",
       "<table border=\"1\" class=\"dataframe\">\n",
       "  <thead>\n",
       "    <tr style=\"text-align: right;\">\n",
       "      <th></th>\n",
       "      <th>y_prediksi</th>\n",
       "      <th>y_asli</th>\n",
       "      <th>error</th>\n",
       "    </tr>\n",
       "  </thead>\n",
       "  <tbody>\n",
       "    <tr>\n",
       "      <th>0</th>\n",
       "      <td>246895.54</td>\n",
       "      <td>252700.0</td>\n",
       "      <td>5804.46</td>\n",
       "    </tr>\n",
       "    <tr>\n",
       "      <th>1</th>\n",
       "      <td>441708.95</td>\n",
       "      <td>360000.0</td>\n",
       "      <td>81708.95</td>\n",
       "    </tr>\n",
       "    <tr>\n",
       "      <th>2</th>\n",
       "      <td>519470.46</td>\n",
       "      <td>940000.0</td>\n",
       "      <td>420529.54</td>\n",
       "    </tr>\n",
       "    <tr>\n",
       "      <th>3</th>\n",
       "      <td>574956.47</td>\n",
       "      <td>322500.0</td>\n",
       "      <td>252456.47</td>\n",
       "    </tr>\n",
       "    <tr>\n",
       "      <th>4</th>\n",
       "      <td>612550.58</td>\n",
       "      <td>505000.0</td>\n",
       "      <td>107550.58</td>\n",
       "    </tr>\n",
       "    <tr>\n",
       "      <th>5</th>\n",
       "      <td>240548.30</td>\n",
       "      <td>210490.0</td>\n",
       "      <td>30058.30</td>\n",
       "    </tr>\n",
       "    <tr>\n",
       "      <th>6</th>\n",
       "      <td>914779.20</td>\n",
       "      <td>861990.0</td>\n",
       "      <td>52789.20</td>\n",
       "    </tr>\n",
       "    <tr>\n",
       "      <th>7</th>\n",
       "      <td>288436.68</td>\n",
       "      <td>280000.0</td>\n",
       "      <td>8436.68</td>\n",
       "    </tr>\n",
       "    <tr>\n",
       "      <th>8</th>\n",
       "      <td>391871.98</td>\n",
       "      <td>430000.0</td>\n",
       "      <td>38128.02</td>\n",
       "    </tr>\n",
       "    <tr>\n",
       "      <th>9</th>\n",
       "      <td>310106.26</td>\n",
       "      <td>468000.0</td>\n",
       "      <td>157893.74</td>\n",
       "    </tr>\n",
       "    <tr>\n",
       "      <th>10</th>\n",
       "      <td>542670.74</td>\n",
       "      <td>285000.0</td>\n",
       "      <td>257670.74</td>\n",
       "    </tr>\n",
       "    <tr>\n",
       "      <th>11</th>\n",
       "      <td>185928.75</td>\n",
       "      <td>480000.0</td>\n",
       "      <td>294071.25</td>\n",
       "    </tr>\n",
       "    <tr>\n",
       "      <th>12</th>\n",
       "      <td>676018.23</td>\n",
       "      <td>975000.0</td>\n",
       "      <td>298981.77</td>\n",
       "    </tr>\n",
       "    <tr>\n",
       "      <th>13</th>\n",
       "      <td>302366.09</td>\n",
       "      <td>400000.0</td>\n",
       "      <td>97633.91</td>\n",
       "    </tr>\n",
       "    <tr>\n",
       "      <th>14</th>\n",
       "      <td>861528.75</td>\n",
       "      <td>662500.0</td>\n",
       "      <td>199028.75</td>\n",
       "    </tr>\n",
       "    <tr>\n",
       "      <th>15</th>\n",
       "      <td>203163.67</td>\n",
       "      <td>204000.0</td>\n",
       "      <td>836.33</td>\n",
       "    </tr>\n",
       "    <tr>\n",
       "      <th>16</th>\n",
       "      <td>391482.58</td>\n",
       "      <td>667000.0</td>\n",
       "      <td>275517.42</td>\n",
       "    </tr>\n",
       "    <tr>\n",
       "      <th>17</th>\n",
       "      <td>554958.22</td>\n",
       "      <td>550000.0</td>\n",
       "      <td>4958.22</td>\n",
       "    </tr>\n",
       "    <tr>\n",
       "      <th>18</th>\n",
       "      <td>466116.84</td>\n",
       "      <td>305000.0</td>\n",
       "      <td>161116.84</td>\n",
       "    </tr>\n",
       "    <tr>\n",
       "      <th>19</th>\n",
       "      <td>612216.14</td>\n",
       "      <td>625000.0</td>\n",
       "      <td>12783.86</td>\n",
       "    </tr>\n",
       "  </tbody>\n",
       "</table>\n",
       "</div>"
      ],
      "text/plain": [
       "    y_prediksi    y_asli      error\n",
       "0    246895.54  252700.0    5804.46\n",
       "1    441708.95  360000.0   81708.95\n",
       "2    519470.46  940000.0  420529.54\n",
       "3    574956.47  322500.0  252456.47\n",
       "4    612550.58  505000.0  107550.58\n",
       "5    240548.30  210490.0   30058.30\n",
       "6    914779.20  861990.0   52789.20\n",
       "7    288436.68  280000.0    8436.68\n",
       "8    391871.98  430000.0   38128.02\n",
       "9    310106.26  468000.0  157893.74\n",
       "10   542670.74  285000.0  257670.74\n",
       "11   185928.75  480000.0  294071.25\n",
       "12   676018.23  975000.0  298981.77\n",
       "13   302366.09  400000.0   97633.91\n",
       "14   861528.75  662500.0  199028.75\n",
       "15   203163.67  204000.0     836.33\n",
       "16   391482.58  667000.0  275517.42\n",
       "17   554958.22  550000.0    4958.22\n",
       "18   466116.84  305000.0  161116.84\n",
       "19   612216.14  625000.0   12783.86"
      ]
     },
     "execution_count": 14,
     "metadata": {},
     "output_type": "execute_result"
    }
   ],
   "source": [
    "prediksi = pd.DataFrame(linreg.predict(x_test))\n",
    "prediksi.columns = ['y_prediksi']\n",
    "prediksi['y_prediksi'] = prediksi['y_prediksi'].apply(lambda x : round(x,2))\n",
    "prediksi['y_asli'] = list(y_test)\n",
    "prediksi['error'] = abs(prediksi['y_prediksi']-prediksi['y_asli'])\n",
    "prediksi"
   ]
  },
  {
   "cell_type": "code",
   "execution_count": 15,
   "metadata": {},
   "outputs": [
    {
     "data": {
      "text/html": [
       "<div>\n",
       "<style scoped>\n",
       "    .dataframe tbody tr th:only-of-type {\n",
       "        vertical-align: middle;\n",
       "    }\n",
       "\n",
       "    .dataframe tbody tr th {\n",
       "        vertical-align: top;\n",
       "    }\n",
       "\n",
       "    .dataframe thead th {\n",
       "        text-align: right;\n",
       "    }\n",
       "</style>\n",
       "<table border=\"1\" class=\"dataframe\">\n",
       "  <thead>\n",
       "    <tr style=\"text-align: right;\">\n",
       "      <th></th>\n",
       "      <th>y_prediksi</th>\n",
       "      <th>y_asli</th>\n",
       "      <th>error</th>\n",
       "    </tr>\n",
       "  </thead>\n",
       "  <tbody>\n",
       "    <tr>\n",
       "      <th>count</th>\n",
       "      <td>20.000000</td>\n",
       "      <td>20.000000</td>\n",
       "      <td>20.00000</td>\n",
       "    </tr>\n",
       "    <tr>\n",
       "      <th>mean</th>\n",
       "      <td>466888.721500</td>\n",
       "      <td>489209.000000</td>\n",
       "      <td>137897.75150</td>\n",
       "    </tr>\n",
       "    <tr>\n",
       "      <th>std</th>\n",
       "      <td>206973.177109</td>\n",
       "      <td>235422.093112</td>\n",
       "      <td>126105.74577</td>\n",
       "    </tr>\n",
       "    <tr>\n",
       "      <th>min</th>\n",
       "      <td>185928.750000</td>\n",
       "      <td>204000.000000</td>\n",
       "      <td>836.33000</td>\n",
       "    </tr>\n",
       "    <tr>\n",
       "      <th>25%</th>\n",
       "      <td>298883.737500</td>\n",
       "      <td>300000.000000</td>\n",
       "      <td>25739.69000</td>\n",
       "    </tr>\n",
       "    <tr>\n",
       "      <th>50%</th>\n",
       "      <td>453912.895000</td>\n",
       "      <td>449000.000000</td>\n",
       "      <td>102592.24500</td>\n",
       "    </tr>\n",
       "    <tr>\n",
       "      <th>75%</th>\n",
       "      <td>584271.387500</td>\n",
       "      <td>634375.000000</td>\n",
       "      <td>253760.03750</td>\n",
       "    </tr>\n",
       "    <tr>\n",
       "      <th>max</th>\n",
       "      <td>914779.200000</td>\n",
       "      <td>975000.000000</td>\n",
       "      <td>420529.54000</td>\n",
       "    </tr>\n",
       "  </tbody>\n",
       "</table>\n",
       "</div>"
      ],
      "text/plain": [
       "          y_prediksi         y_asli         error\n",
       "count      20.000000      20.000000      20.00000\n",
       "mean   466888.721500  489209.000000  137897.75150\n",
       "std    206973.177109  235422.093112  126105.74577\n",
       "min    185928.750000  204000.000000     836.33000\n",
       "25%    298883.737500  300000.000000   25739.69000\n",
       "50%    453912.895000  449000.000000  102592.24500\n",
       "75%    584271.387500  634375.000000  253760.03750\n",
       "max    914779.200000  975000.000000  420529.54000"
      ]
     },
     "execution_count": 15,
     "metadata": {},
     "output_type": "execute_result"
    }
   ],
   "source": [
    "prediksi.describe()"
   ]
  },
  {
   "cell_type": "code",
   "execution_count": 16,
   "metadata": {},
   "outputs": [
    {
     "data": {
      "text/plain": [
       "Index(['sqft_living', 'sqft_living15', 'sqft_above', 'price'], dtype='object')"
      ]
     },
     "execution_count": 16,
     "metadata": {},
     "output_type": "execute_result"
    }
   ],
   "source": [
    "dokumen.columns"
   ]
  },
  {
   "cell_type": "code",
   "execution_count": 17,
   "metadata": {},
   "outputs": [
    {
     "data": {
      "text/plain": [
       "137897.75149999998"
      ]
     },
     "execution_count": 17,
     "metadata": {},
     "output_type": "execute_result"
    }
   ],
   "source": [
    "mean_absolute_error(prediksi['y_prediksi'], y_test)"
   ]
  },
  {
   "cell_type": "code",
   "execution_count": 18,
   "metadata": {},
   "outputs": [
    {
     "data": {
      "image/png": "[encoded data removed]",
      "text/plain": [
       "<Figure size 1152x360 with 3 Axes>"
      ]
     },
     "metadata": {
      "needs_background": "light"
     },
     "output_type": "display_data"
    }
   ],
   "source": [
    "plt.figure(figsize=(16,5))\n",
    "plt.subplot(131)\n",
    "plt.title('sqft_living vs Price')\n",
    "plt.plot(dokumen['sqft_living'], dokumen.price, 'or')\n",
    "\n",
    "plt.subplot(132)\n",
    "plt.title('sqft_living15 vs Price')\n",
    "plt.plot(dokumen['sqft_living15'], dokumen.price, 'og')\n",
    "\n",
    "plt.subplot(133)\n",
    "plt.title('sqft_above vs Price')\n",
    "plt.plot(dokumen['sqft_above'], dokumen.price, 'ob') \n",
    "plt.show()"
   ]
  },
  {
   "cell_type": "markdown",
   "metadata": {},
   "source": [
    "## Checking the errors"
   ]
  },
  {
   "cell_type": "code",
   "execution_count": 19,
   "metadata": {},
   "outputs": [
    {
     "data": {
      "text/html": [
       "<div>\n",
       "<style scoped>\n",
       "    .dataframe tbody tr th:only-of-type {\n",
       "        vertical-align: middle;\n",
       "    }\n",
       "\n",
       "    .dataframe tbody tr th {\n",
       "        vertical-align: top;\n",
       "    }\n",
       "\n",
       "    .dataframe thead th {\n",
       "        text-align: right;\n",
       "    }\n",
       "</style>\n",
       "<table border=\"1\" class=\"dataframe\">\n",
       "  <thead>\n",
       "    <tr style=\"text-align: right;\">\n",
       "      <th></th>\n",
       "      <th>sqft_living</th>\n",
       "      <th>sqft_living15</th>\n",
       "      <th>sqft_above</th>\n",
       "      <th>price</th>\n",
       "    </tr>\n",
       "  </thead>\n",
       "  <tbody>\n",
       "    <tr>\n",
       "      <th>0</th>\n",
       "      <td>0.088172</td>\n",
       "      <td>0.116279</td>\n",
       "      <td>0.1328</td>\n",
       "      <td>0.037304</td>\n",
       "    </tr>\n",
       "    <tr>\n",
       "      <th>1</th>\n",
       "      <td>0.387097</td>\n",
       "      <td>0.206718</td>\n",
       "      <td>0.4496</td>\n",
       "      <td>0.208446</td>\n",
       "    </tr>\n",
       "    <tr>\n",
       "      <th>2</th>\n",
       "      <td>0.000000</td>\n",
       "      <td>0.472868</td>\n",
       "      <td>0.0016</td>\n",
       "      <td>0.014618</td>\n",
       "    </tr>\n",
       "    <tr>\n",
       "      <th>3</th>\n",
       "      <td>0.255914</td>\n",
       "      <td>0.121447</td>\n",
       "      <td>0.0912</td>\n",
       "      <td>0.244180</td>\n",
       "    </tr>\n",
       "    <tr>\n",
       "      <th>4</th>\n",
       "      <td>0.195699</td>\n",
       "      <td>0.235142</td>\n",
       "      <td>0.2928</td>\n",
       "      <td>0.193286</td>\n",
       "    </tr>\n",
       "  </tbody>\n",
       "</table>\n",
       "</div>"
      ],
      "text/plain": [
       "   sqft_living  sqft_living15  sqft_above     price\n",
       "0     0.088172       0.116279      0.1328  0.037304\n",
       "1     0.387097       0.206718      0.4496  0.208446\n",
       "2     0.000000       0.472868      0.0016  0.014618\n",
       "3     0.255914       0.121447      0.0912  0.244180\n",
       "4     0.195699       0.235142      0.2928  0.193286"
      ]
     },
     "execution_count": 19,
     "metadata": {},
     "output_type": "execute_result"
    }
   ],
   "source": [
    "scaler = MinMaxScaler()\n",
    "new_dokumen = dokumen[['sqft_living', 'sqft_living15', 'sqft_above', 'price']]\n",
    "scaled_new_dokumen = pd.DataFrame(scaler.fit_transform(new_dokumen))\n",
    "scaled_new_dokumen.columns = ['sqft_living', 'sqft_living15', 'sqft_above', 'price']\n",
    "scaled_new_dokumen.head()"
   ]
  },
  {
   "cell_type": "code",
   "execution_count": 20,
   "metadata": {},
   "outputs": [],
   "source": [
    "x_train, x_test, y_train, y_test = train_test_split(\n",
    "    scaled_new_dokumen[\n",
    "        ['sqft_living','sqft_living15','sqft_above']], \n",
    "        scaled_new_dokumen.price, \n",
    "        test_size=.2, \n",
    "        random_state=21)"
   ]
  },
  {
   "cell_type": "code",
   "execution_count": 21,
   "metadata": {},
   "outputs": [
    {
     "name": "stdout",
     "output_type": "stream",
     "text": [
      "Jadi, errornya adalah = 0.0746603956495123 atau 0.07\n"
     ]
    }
   ],
   "source": [
    "lr2 = LinearRegression()\n",
    "lr2.fit(x_train, y_train)\n",
    "mean_absolute_error(lr2.predict(x_test), y_test)\n",
    "print(f'Jadi, errornya adalah = {mean_absolute_error(lr2.predict(x_test), y_test)} atau {float(mean_absolute_error(lr2.predict(x_test), y_test)):.1}')"
   ]
  }
 ],
 "metadata": {
  "kernelspec": {
   "display_name": "Python 3.9.12 ('base')",
   "language": "python",
   "name": "python3"
  },
  "language_info": {
   "codemirror_mode": {
    "name": "ipython",
    "version": 3
   },
   "file_extension": ".py",
   "mimetype": "text/x-python",
   "name": "python",
   "nbconvert_exporter": "python",
   "pygments_lexer": "ipython3",
   "version": "3.9.12"
  },
  "orig_nbformat": 4,
  "vscode": {
   "interpreter": {
    "hash": "fc6a87218d93c3eb3aa29305b960fd7fc714f48d8ac50960275ef4f8856ba0fd"
   }
  }
 },
 "nbformat": 4,
 "nbformat_minor": 2
}
